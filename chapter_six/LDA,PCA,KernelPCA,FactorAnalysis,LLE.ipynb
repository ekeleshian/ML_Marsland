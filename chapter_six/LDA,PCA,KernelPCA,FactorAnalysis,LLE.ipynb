{
 "cells": [
  {
   "cell_type": "code",
   "execution_count": 2,
   "metadata": {},
   "outputs": [],
   "source": [
    "from sklearn import datasets"
   ]
  },
  {
   "cell_type": "code",
   "execution_count": 3,
   "metadata": {},
   "outputs": [],
   "source": [
    "import numpy as np\n",
    "from scipy import linalg as la"
   ]
  },
  {
   "cell_type": "code",
   "execution_count": 13,
   "metadata": {},
   "outputs": [],
   "source": [
    "import pickle\n",
    "iris = pickle.load(open('iris.data', 'rb'))\n",
    "iris[:,:4] = iris[:, :4] - iris[:, :4].mean(axis = 0) #compute distance b/w each element by its feature's avg\n",
    "imax = np.concatenate((iris.max(axis=0)*np.ones((1,5)),iris.min(axis=0)*np.ones((1,5))), axis=0).max(axis=0)\n",
    "iris[:, :4]  = iris[:, :4]/imax[:4]\n",
    "labels = iris[:,4:]\n",
    "iris = iris[:, :4]\n",
    "\n",
    "order = list(range(np.shape(iris)[0]))\n",
    "np.random.shuffle(order)\n",
    "iris = iris[order, :]\n",
    "labels = labels[order, 0]\n",
    "\n",
    "w0 = np.where(labels==0.0)\n",
    "w1 = np.where(labels ==1.0)\n",
    "w2 = np.where(labels == 2.0)"
   ]
  },
  {
   "cell_type": "markdown",
   "metadata": {},
   "source": [
    "## Linear Discriminant Analysis algorithm"
   ]
  },
  {
   "cell_type": "code",
   "execution_count": 4,
   "metadata": {},
   "outputs": [],
   "source": [
    "def lda(data, labels, redDim):\n",
    "    data -= data.mean(axis =0) ## data = xi - mu for all i in data\n",
    "    nData = np.shape(data)[0]\n",
    "    nDim = np.shape(data)[1]\n",
    "    Sw = np.zeros((nDim, nDim)) # matrix spanning feature space\n",
    "    Sb = np.zeros((nDim, nDim))\n",
    "    C = np.cov(data.T)\n",
    "    classes = np.unique(labels)\n",
    "    for i in range(len(classes)):\n",
    "        indices = np.squeeze(np.where(labels == classes[i]))\n",
    "        d = np.squeeze(data[indices, :])\n",
    "        classcov = np.cov(d.T)\n",
    "        Sw += np.float(np.shape(indices)[0])/nData * classcov\n",
    "    Sb = C - Sw\n",
    "    evals, evecs = la.eig(Sw, Sb)\n",
    "    indices = np.argsort(evals)\n",
    "    indices = indices[::-1]\n",
    "    evecs = evecs[:, indices]\n",
    "    evals = evals[indices]\n",
    "    w = evecs[:,:redDim]\n",
    "    newData = np.dot(data, w)\n",
    "    return newData, w"
   ]
  },
  {
   "cell_type": "code",
   "execution_count": 19,
   "metadata": {},
   "outputs": [
    {
     "name": "stdout",
     "output_type": "stream",
     "text": [
      "(150, 2)\n"
     ]
    },
    {
     "data": {
      "image/png": "[encoded data removed]",
      "text/plain": [
       "<Figure size 432x288 with 1 Axes>"
      ]
     },
     "metadata": {
      "needs_background": "light"
     },
     "output_type": "display_data"
    },
    {
     "data": {
      "image/png": "[encoded data removed]",
      "text/plain": [
       "<Figure size 432x288 with 1 Axes>"
      ]
     },
     "metadata": {
      "needs_background": "light"
     },
     "output_type": "display_data"
    }
   ],
   "source": [
    "import matplotlib.pyplot as plt\n",
    "newData, w = lda(iris, labels, 2)\n",
    "print(np.shape(newData))\n",
    "plt.plot(iris[w0, 0], iris[w0, 1], 'ok', color='green')\n",
    "plt.plot(iris[w1, 0], iris[w1, 1], '^k', color = 'red')\n",
    "plt.plot(iris[w2, 0], iris[w2, 1], 'vk', color = 'blue')\n",
    "plt.axis([-1.5, 1.8, -1.5, 1.8])\n",
    "plt.axis('off')\n",
    "plt.show()\n",
    "\n",
    "plt.figure(2)\n",
    "plt.plot(newData[w0, 0], newData[w0, 1], 'ok', color='green')\n",
    "plt.plot(newData[w1, 0], newData[w1, 1], '^k', color = 'red')\n",
    "plt.plot(newData[w2, 0], newData[w2, 1], 'vk', color = 'blue')\n",
    "plt.axis([-1.5, 1.8, -1.5, 1.8])\n",
    "plt.axis('off')\n",
    "\n",
    "plt.show()"
   ]
  },
  {
   "cell_type": "markdown",
   "metadata": {},
   "source": [
    "## Principal Component Analysis algorithm"
   ]
  },
  {
   "cell_type": "code",
   "execution_count": 25,
   "metadata": {},
   "outputs": [],
   "source": [
    "def pca(data, nRedDim=0, normalise=1):\n",
    "    #center data\n",
    "    m = np.mean(data, axis=0)\n",
    "    data -= m\n",
    "    \n",
    "    #covariance matrix\n",
    "    C = np.cov(data.T)\n",
    "    \n",
    "    #compute eigenvalues and sort into descending order\n",
    "    evals, evecs = np.linalg.eig(C)\n",
    "    indices = np.argsort(evals)\n",
    "    indices = indices[::-1]\n",
    "    evecs = evecs[:, indices]\n",
    "    evals = evals[indices]\n",
    "    \n",
    "    if nRedDim>0:\n",
    "        evecs = evecs[:,:nRedDim]\n",
    "    \n",
    "    if normalise:\n",
    "        for i in range(np.shape(evecs)[1]):\n",
    "            evecs[:,i]=evecs[:, i] / np.linalg.norm(evecs[:, i]) * np.sqrt(evals[i])\n",
    "    #produce the new matrix\n",
    "    x = np.dot(evecs.T, data.T)\n",
    "    #compute the original data again\n",
    "    y = np.dot(evecs, x).T + m\n",
    "    return x, y, evals, evecs\n",
    "    \n",
    "    \n"
   ]
  },
  {
   "cell_type": "code",
   "execution_count": 26,
   "metadata": {},
   "outputs": [
    {
     "data": {
      "text/plain": [
       "(-0.49656969536619744,\n",
       " 0.5518339758573664,\n",
       " -0.1963728556618137,\n",
       " 0.21903650027269797)"
      ]
     },
     "execution_count": 26,
     "metadata": {},
     "output_type": "execute_result"
    },
    {
     "data": {
      "image/png": "[encoded data removed]",
      "text/plain": [
       "<Figure size 432x288 with 1 Axes>"
      ]
     },
     "metadata": {
      "needs_background": "light"
     },
     "output_type": "display_data"
    }
   ],
   "source": [
    "x, y, evals, evecs = pca(iris,2)\n",
    "plt.figure()\n",
    "plt.plot(y[w0,0],y[w0,1],'ok', color = 'green')\n",
    "plt.plot(y[w1,0],y[w1,1],'^k', color = 'red')\n",
    "plt.plot(y[w2,0],y[w2,1],'vk', color = 'blue')\n",
    "plt.axis('off')"
   ]
  },
  {
   "cell_type": "markdown",
   "metadata": {},
   "source": [
    "## Factor Analysis algorithm"
   ]
  },
  {
   "cell_type": "code",
   "execution_count": 1,
   "metadata": {},
   "outputs": [],
   "source": [
    "def factoranalysis(y, nRedDim):\n",
    "    Ndata = np.shape(y)[0]\n",
    "    N = np.shape(y)[1]\n",
    "    \n",
    "    y = y - y.mean(axis = 0)\n",
    "    C = np.cov(y.T)\n",
    "    Cd = C.diagonal()\n",
    "    Psi = Cd\n",
    "    scaling = np.linalg.det(C)**(1./N)\n",
    "    \n",
    "    W = np.random.normal(0, np.sqrt(scaling/nRedDim), (N, nRedDim))\n",
    "    \n",
    "    nits = 1000\n",
    "    oldL = -np.inf\n",
    "    \n",
    "    for i in range(nits):\n",
    "        A = np.dot(W, W.T) + np.diag(Psi)\n",
    "        logA = np.log(np.abs(np.linalg.det(A)))\n",
    "        A = np.linalg.inv(A)\n",
    "        \n",
    "        WA = np.dot(W.T, A)\n",
    "        WAC = np.dot(WA, C)\n",
    "        Exx = np.eye(nRedDim) - np.dot(WA,W) +  np.dot(WAC, WA.T)\n",
    "        \n",
    "        W = np.dot(WAC.T, np.linalg.inv(Exx))\n",
    "        Psi = Cd - (np.dot(W, WAC)).diagonal()\n",
    "        \n",
    "        tAC = (A*C.T).sum()\n",
    "        L = -N/2*np.log(2.*np.pi) - 0.5*logA - 0.5*tAC\n",
    "        if (L - oldL)<(1e-4):\n",
    "            print(\"stop\", i)\n",
    "            break\n",
    "        print(L)\n",
    "        oldL = L\n",
    "    A = np.linalg.inv(np.dot(W, W.T)) + np.diag(Psi)\n",
    "    Ex = np.dot(A.T, W)\n",
    "    \n",
    "    return np.dot(y, Ex)    "
   ]
  },
  {
   "cell_type": "code",
   "execution_count": 27,
   "metadata": {},
   "outputs": [
    {
     "name": "stdout",
     "output_type": "stream",
     "text": [
      "-2.557366014229669\n",
      "-2.1701039318072497\n",
      "-1.6375791733574998\n",
      "-1.1280489701460232\n",
      "-0.7934371765418105\n",
      "-0.6016537817513812\n",
      "-0.48754020293591704\n",
      "-0.4181809304209585\n",
      "-0.37366838341742925\n",
      "-0.3427760148923058\n",
      "-0.3202425099437538\n",
      "-0.30352348458704626\n",
      "-0.2910402638165004\n",
      "-0.2815998486533662\n",
      "-0.2742949381770008\n",
      "-0.26847985898261406\n",
      "-0.2637191271532151\n",
      "-0.25972527527098066\n",
      "-0.25630743991358784\n",
      "-0.25333590927514393\n",
      "-0.2507196820058004\n",
      "-0.24839273142419094\n",
      "-0.24630562364425135\n",
      "-0.2444203227346473\n",
      "-0.24270688502505955\n",
      "-0.2411412877461503\n",
      "-0.23970395489679452\n",
      "-0.2383787244295803\n",
      "-0.23715210380183782\n",
      "-0.236012719995208\n",
      "-0.23495090460594303\n",
      "-0.23395837525567176\n",
      "-0.23302798727931195\n",
      "-0.2321535377022359\n",
      "-0.2313296087778376\n",
      "-0.23055144188647025\n",
      "-0.2298148350277227\n",
      "-0.22911605884906283\n",
      "-0.22845178738317706\n",
      "-0.2278190405636935\n",
      "-0.227215136254161\n",
      "-0.22663765002463698\n",
      "-0.22608438128857067\n",
      "-0.22555332470393674\n",
      "-0.22504264596602574\n",
      "-0.22455066129432666\n",
      "-0.22407582005246418\n",
      "-0.22361669004649665\n",
      "-0.22317194513141025\n",
      "-0.2227403548204152\n",
      "-0.22232077564262243\n",
      "-0.22191214403266013\n",
      "-0.22151347056435533\n",
      "-0.2211238353605509\n",
      "-0.22074238452415385\n",
      "-0.220368327443472\n",
      "-0.2200009348280405\n",
      "-0.21963953733195707\n",
      "-0.21928352462104161\n",
      "-0.21893234473882206\n",
      "-0.21858550362713247\n",
      "-0.2182425646599917\n",
      "-0.21790314805620525\n",
      "-0.21756693004771943\n",
      "-0.21723364169721027\n",
      "-0.21690306728000142\n",
      "-0.21657504217119117\n",
      "-0.2162494502082728\n",
      "-0.215926220530271\n",
      "-0.21560532392514142\n",
      "-0.21528676874536545\n",
      "-0.21497059647621874\n",
      "-0.2146568770592534\n",
      "-0.21434570408532672\n",
      "-0.21403718997566745\n",
      "-0.2137314612666832\n",
      "-0.21342865410475964\n",
      "-0.21312891004282708\n",
      "-0.21283237221266926\n",
      "-0.21253918192638643\n",
      "-0.21224947574054465\n",
      "-0.21196338299634832\n",
      "-0.21168102383226506\n",
      "-0.2114025076503281\n",
      "-0.2111279320061059\n",
      "-0.21085738188363612\n",
      "-0.21059092931141654\n",
      "-0.21032863327300033\n",
      "-0.21007053986528978\n",
      "-0.2098166826593908\n",
      "-0.20956708322136297\n",
      "-0.20932175175433088\n",
      "-0.20908068782761813\n",
      "-0.20884388116291142\n",
      "-0.20861131245226172\n",
      "-0.20838295418677255\n",
      "-0.20815877147902473\n",
      "-0.20793872286566195\n",
      "-0.2077227610800101\n",
      "-0.20751083378705992\n",
      "-0.20730288427582266\n",
      "-0.20709885210548995\n",
      "-0.20689867370395465\n",
      "-0.20670228291816173\n",
      "-0.20650961151691405\n",
      "-0.20632058964733613\n",
      "-0.20613514624689788\n",
      "-0.20595320941337825\n",
      "-0.20577470673505438\n",
      "-0.20559956558389025\n",
      "-0.20542771337447974\n",
      "-0.2052590777913066\n",
      "-0.20509358698707114\n",
      "-0.20493116975461056\n",
      "-0.20477175567483297\n",
      "-0.2046152752430066\n",
      "-0.2044616599755047\n",
      "-0.2043108424990483\n",
      "-0.20416275662427452\n",
      "-0.20401733740536354\n",
      "-0.2038745211873274\n",
      "-0.20373424564220155\n",
      "-0.20359644979568614\n",
      "-0.2034610740452587\n",
      "-0.20332806017074967\n",
      "-0.20319735133861183\n",
      "-0.20306889210032963\n",
      "-0.20294262838615484\n",
      "-0.20281850749455543\n",
      "-0.20269647807811353\n",
      "-0.20257649012643553\n",
      "-0.20245849494641766\n",
      "-0.20234244514050737\n",
      "-0.2022282945831666\n",
      "-0.20211599839591\n",
      "-0.20200551292128388\n",
      "-0.20189679569595675\n",
      "-0.20178980542316083\n",
      "-0.20168450194474907\n",
      "-0.20158084621293249\n",
      "-0.20147880026195697\n",
      "-0.20137832717975446\n",
      "stop 142\n"
     ]
    },
    {
     "data": {
      "text/plain": [
       "(-8.256849031477357, 8.332985392845211, -14.61439781265233, 10.136878965856404)"
      ]
     },
     "execution_count": 27,
     "metadata": {},
     "output_type": "execute_result"
    },
    {
     "data": {
      "image/png": "[encoded data removed]",
      "text/plain": [
       "<Figure size 432x288 with 1 Axes>"
      ]
     },
     "metadata": {
      "needs_background": "light"
     },
     "output_type": "display_data"
    }
   ],
   "source": [
    "newData = factoranalysis(iris, 2)\n",
    "plt.figure()\n",
    "plt.plot(newData[w0,0],newData[w0,1],'ok', color = 'green')\n",
    "plt.plot(newData[w1,0],newData[w1,1],'^k', color = 'red')\n",
    "plt.plot(newData[w2,0],newData[w2,1],'vk', color = 'blue')\n",
    "plt.axis('off')"
   ]
  },
  {
   "cell_type": "markdown",
   "metadata": {},
   "source": [
    "## Kernal PCA algorithm"
   ]
  },
  {
   "cell_type": "code",
   "execution_count": 7,
   "metadata": {},
   "outputs": [],
   "source": [
    "def kernelmatrix(data, kernel, param = np.array([3,2])):\n",
    "    if kernel == 'linear':\n",
    "        return data@data.T\n",
    "    elif kernel == 'gaussian':\n",
    "        K = np.zeros((np.shape(data)[0], np.shape(data)[0]))\n",
    "        for i in range(np.shape(data)[0]):\n",
    "            for j in range(i + 1, np.shape(data)[0]):\n",
    "                K[i,j] = np.sum((data[i,:]-data[j,:])** 2) #total spread between each row against another row\n",
    "                K[j,i] =  K[i, j] #to ensure it's symmetric\n",
    "        return np.exp(-K**2/(2*param[0]**2)) #applying the gaussian\n",
    "    elif kernel == 'polynomial':\n",
    "        return (data@data.T + param[0])**param[1]\n",
    "\n",
    "def kernelpca(data,kernel, redDim):\n",
    "    \n",
    "    nData = np.shape(data)[0]\n",
    "    nDim = np.shape(data)[1]\n",
    "    \n",
    "    K = kernelmatrix(data, kernel)\n",
    "    \n",
    "    D = np.sum(K, axis =0)/nData\n",
    "    E = np.sum(D)/nData\n",
    "    J = np.ones((nData,1))*D\n",
    "    K = K - J - J.T + E*np.ones((nData, nData))\n",
    "    \n",
    "    evals, evecs = np.linalg.eig(K)\n",
    "    indices = np.argsort(evals)\n",
    "    indices = indices[::-1]\n",
    "    evecs = evecs[:, indices[:redDim]]\n",
    "    evals = evals[indices[:redDim]]\n",
    "    \n",
    "    sqrtE = np.zeros((len(evals), len(evals)))\n",
    "    for i in range(len(evals)):\n",
    "        sqrtE[i,i] = np.sqrt(evals[i])\n",
    "    \n",
    "    newData = (sqrtE@evecs.T).T\n",
    "    \n",
    "    return newData\n",
    "    \n",
    "    \n",
    "                 "
   ]
  },
  {
   "cell_type": "code",
   "execution_count": 24,
   "metadata": {},
   "outputs": [
    {
     "data": {
      "text/plain": [
       "(-0.8021360432876077,\n",
       " 0.835978829586594,\n",
       " -0.5768383294609707,\n",
       " 0.5736521252625557)"
      ]
     },
     "execution_count": 24,
     "metadata": {},
     "output_type": "execute_result"
    },
    {
     "data": {
      "image/png": "[encoded data removed]",
      "text/plain": [
       "<Figure size 432x288 with 1 Axes>"
      ]
     },
     "metadata": {
      "needs_background": "light"
     },
     "output_type": "display_data"
    }
   ],
   "source": [
    "newData = kernelpca(iris,'gaussian',2)\n",
    "plt.figure()\n",
    "plt.plot(newData[w0,0],newData[w0,1],'ok', color = 'green')\n",
    "plt.plot(newData[w1,0],newData[w1,1],'^k', color = 'red')\n",
    "plt.plot(newData[w2,0],newData[w2,1],'vk', color = 'blue')\n",
    "plt.axis('off')"
   ]
  },
  {
   "cell_type": "markdown",
   "metadata": {},
   "source": [
    "# Locally Linear Embedding algorithm"
   ]
  },
  {
   "cell_type": "code",
   "execution_count": 33,
   "metadata": {},
   "outputs": [],
   "source": [
    "\n",
    "def lle(data, nRedDim=2, K=12):\n",
    "    ndata = np.shape(data)[0]\n",
    "    ndim = np.shape(data)[1]\n",
    "    d = np.zeros((ndata, ndata), dtype=float)\n",
    "    \n",
    "    for i in range(ndata):\n",
    "        for j in range(i + 1, ndata):\n",
    "            for k in range(ndim):\n",
    "                d[i,j] += (data[i,k]-data[j,k])**2 \n",
    "            d[i,j] = np.sqrt(d[i,j]) #compute distance b/w every pair of points\n",
    "            d[j,i] = d[i,j] #ensures d matrix is square and symmetric, and hence invertible\n",
    "    \n",
    "    indices = d.argsort(axis=1)\n",
    "    neighbors = indices[:, 1:K+1] #creating a list of its neighbors' locations zi\n",
    "    \n",
    "    W = np.zeros((K, ndata), dtype = float)\n",
    "    \n",
    "    for i in range(ndata):\n",
    "        Z = data[neighbors[i, :],:] - np.kron(np.ones((K, 1)), data[i,:]) #compute zi-=zi-xi\n",
    "        C = Z@Z.T #compute local covariance\n",
    "        C = C + np.identity(K)*1e-3*np.trace(C)\n",
    "        W[:,i] = (np.linalg.solve(C,np.ones((K,1)))).T #solve for W that minimizes the reconstruction error\n",
    "        W[:,i] = W[:,i]/np.sum(W[:, i]) #normalize the Ws of neighbor elements\n",
    "    \n",
    "    M = np.eye(ndata, dtype =float)\n",
    "    for i in range(ndata):\n",
    "        w = (np.ones((1, np.shape(W)[0]))*W[:,i].T).T\n",
    "        j = neighbors[i,:]\n",
    "        ww = w@w.T\n",
    "        for k in range(K): #creating M = (I - W).T@(I - W)\n",
    "            M[i,j[k]] -= w[k]\n",
    "            M[j[k], i] -= w[k]\n",
    "            for l in range(K):\n",
    "                M[j[k],j[l]] += ww[k,l]\n",
    "    \n",
    "    evals, evecs = np.linalg.eig(M) #compute eigenvalues/eigenvectors of M\n",
    "    ind = np.argsort(evals) \n",
    "    y = evecs[:, ind[1:nRedDim+1]]*np.sqrt(ndata) #sort the eigvectors into order by size of eigenvalue\n",
    "    return evals, evecs, y"
   ]
  },
  {
   "cell_type": "code",
   "execution_count": 34,
   "metadata": {},
   "outputs": [
    {
     "name": "stdout",
     "output_type": "stream",
     "text": [
      "(150, 2)\n",
      "[[[-8.28606881e-01  5.50030390e-10]\n",
      "  [-8.28606881e-01  4.77900981e-10]\n",
      "  [-8.28606881e-01  4.64341444e-10]\n",
      "  [-8.28606881e-01  5.64240565e-10]\n",
      "  [-8.28606881e-01  5.44785365e-10]\n",
      "  [-8.28606881e-01  4.99565566e-10]\n",
      "  [-8.28606881e-01  4.90528252e-10]\n",
      "  [-8.28606881e-01  5.32383425e-10]\n",
      "  [-8.28606881e-01  5.05836341e-10]\n",
      "  [-8.28606881e-01  5.08389564e-10]\n",
      "  [-8.28606881e-01  5.15153632e-10]\n",
      "  [-8.28606881e-01  4.57543381e-10]\n",
      "  [-8.28606881e-01  5.50386541e-10]\n",
      "  [-8.28606881e-01  4.66867613e-10]\n",
      "  [-8.28606881e-01  4.17570664e-10]\n",
      "  [-8.28606881e-01  4.64484288e-10]\n",
      "  [-8.28606881e-01  5.64104702e-10]\n",
      "  [-8.28606881e-01  4.07525227e-10]\n",
      "  [-8.28606881e-01  4.43511049e-10]\n",
      "  [-8.28606881e-01  3.68289656e-10]\n",
      "  [-8.28606881e-01  5.72371242e-10]\n",
      "  [-8.28606881e-01  5.01152311e-10]\n",
      "  [-8.28606881e-01  6.32134993e-10]\n",
      "  [-8.28606881e-01  5.07925018e-10]\n",
      "  [-8.28606881e-01  5.00561769e-10]\n",
      "  [-8.28606881e-01  5.05294518e-10]\n",
      "  [-8.28606881e-01  4.80517569e-10]\n",
      "  [-8.28606881e-01  6.38757572e-10]\n",
      "  [-8.28606881e-01  5.66198595e-10]\n",
      "  [-8.28606881e-01  4.13904333e-10]\n",
      "  [-8.28606881e-01  5.54143023e-10]\n",
      "  [-8.28606881e-01  4.91382145e-10]\n",
      "  [-8.28606881e-01  5.64238098e-10]\n",
      "  [-8.28606881e-01  5.87659783e-10]\n",
      "  [-8.28606881e-01  5.67178953e-10]\n",
      "  [-8.28606881e-01  5.61236400e-10]\n",
      "  [-8.28606881e-01  5.84816519e-10]\n",
      "  [-8.28606881e-01  5.12990681e-10]\n",
      "  [-8.28606881e-01  4.46979560e-10]\n",
      "  [-8.28606881e-01  5.23416039e-10]\n",
      "  [-8.28606881e-01  5.68917763e-10]\n",
      "  [-8.28606881e-01  6.08062122e-10]\n",
      "  [-8.28606881e-01  4.26415613e-10]\n",
      "  [-8.28606881e-01  5.03336975e-10]\n",
      "  [-8.28606881e-01  4.34789439e-10]\n",
      "  [-8.28606881e-01  5.44185557e-10]\n",
      "  [-8.28606881e-01  4.77833073e-10]\n",
      "  [-8.28606881e-01  6.04518735e-10]\n",
      "  [-8.28606881e-01  5.50868713e-10]\n",
      "  [-8.28606881e-01  4.75428091e-10]]]\n",
      "---\n",
      "[[[-1.07550236 -1.57366599]\n",
      "  [-1.07550236 -0.27287295]\n",
      "  [-1.07550236  0.81097665]\n",
      "  [-1.07550236 -2.54426995]\n",
      "  [-1.07550236 -0.4231741 ]\n",
      "  [-1.07550236  1.4866215 ]\n",
      "  [-1.07550236 -1.41549636]\n",
      "  [-1.07550236 -0.93566972]\n",
      "  [-1.07550236 -1.50655569]\n",
      "  [-1.07550236  0.37649483]\n",
      "  [-1.07550236 -0.30367994]\n",
      "  [-1.07550236 -1.13272945]\n",
      "  [-1.07550236 -1.04924618]\n",
      "  [-1.07550236 -0.50038507]\n",
      "  [-1.07550236 -1.07937424]\n",
      "  [-1.07550236 -0.59984631]\n",
      "  [-1.07550236 -0.95608767]\n",
      "  [-1.07550236 -2.08311016]\n",
      "  [-1.07550236  0.44630492]\n",
      "  [-1.07550236 -0.17513181]\n",
      "  [-1.07550236 -2.37923549]\n",
      "  [-1.07550236 -0.40469072]\n",
      "  [-1.07550236  0.35022633]\n",
      "  [-1.07550236 -0.35498949]\n",
      "  [-1.07550236 -0.97979008]\n",
      "  [-1.07550236 -0.12691793]\n",
      "  [-1.07550236  0.66370475]\n",
      "  [-1.07550236 -0.10410371]\n",
      "  [-1.07550236 -0.39021901]\n",
      "  [-1.07550236 -0.89738973]\n",
      "  [-1.07550236 -0.5186933 ]\n",
      "  [-1.07550236 -1.37121112]\n",
      "  [-1.07550236 -1.01464122]\n",
      "  [-1.07550236  0.87103684]\n",
      "  [-1.07550236 -0.99012798]\n",
      "  [-1.07550236 -0.21409245]\n",
      "  [-1.07550236  0.90081342]\n",
      "  [-1.07550236 -1.51519713]\n",
      "  [-1.07550236  1.26259227]\n",
      "  [-1.07550236 -1.08989478]\n",
      "  [-1.07550236 -1.63053009]\n",
      "  [-1.07550236  0.90102333]\n",
      "  [-1.07550236  0.57077561]\n",
      "  [-1.07550236 -1.86659793]\n",
      "  [-1.07550236 -2.48242445]\n",
      "  [-1.07550236 -1.24437739]\n",
      "  [-1.07550236 -1.58461461]\n",
      "  [-1.07550236 -1.10176777]\n",
      "  [-1.07550236 -0.97112824]\n",
      "  [-1.07550236  0.24655878]]]\n",
      "---\n",
      "[[[-1.07550236 -0.36491198]\n",
      "  [-1.07550236  3.21879918]\n",
      "  [-1.07550236 -0.07340106]\n",
      "  [-1.07550236  1.18240195]\n",
      "  [-1.07550236 -1.11008278]\n",
      "  [-1.07550236  0.96753244]\n",
      "  [-1.07550236  0.4965037 ]\n",
      "  [-1.07550236  2.02016051]\n",
      "  [-1.07550236  1.17488918]\n",
      "  [-1.07550236  0.7600867 ]\n",
      "  [-1.07550236  1.89701514]\n",
      "  [-1.07550236  0.85300218]\n",
      "  [-1.07550236 -0.18702684]\n",
      "  [-1.07550236  1.13795967]\n",
      "  [-1.07550236  2.32028897]\n",
      "  [-1.07550236 -0.35864224]\n",
      "  [-1.07550236  0.4162595 ]\n",
      "  [-1.07550236 -0.82651766]\n",
      "  [-1.07550236  0.61425114]\n",
      "  [-1.07550236  0.51304167]\n",
      "  [-1.07550236  0.62133635]\n",
      "  [-1.07550236 -1.14337279]\n",
      "  [-1.07550236  2.03639015]\n",
      "  [-1.07550236 -2.35438843]\n",
      "  [-1.07550236  0.54688369]\n",
      "  [-1.07550236  1.97137327]\n",
      "  [-1.07550236 -0.8258236 ]\n",
      "  [-1.07550236  0.67606716]\n",
      "  [-1.07550236  0.44348475]\n",
      "  [-1.07550236  0.56604308]\n",
      "  [-1.07550236  3.41369288]\n",
      "  [-1.07550236  1.41101201]\n",
      "  [-1.07550236  1.76798466]\n",
      "  [-1.07550236 -0.84617944]\n",
      "  [-1.07550236 -0.454992  ]\n",
      "  [-1.07550236  1.81183294]\n",
      "  [-1.07550236  0.7706502 ]\n",
      "  [-1.07550236 -0.84628007]\n",
      "  [-1.07550236  0.19996634]\n",
      "  [-1.07550236 -0.19185074]\n",
      "  [-1.07550236  2.05196892]\n",
      "  [-1.07550236  0.04444542]\n",
      "  [-1.07550236  0.48910011]\n",
      "  [-1.07550236  1.01344992]\n",
      "  [-1.07550236 -0.23359639]\n",
      "  [-1.07550236  0.41351571]\n",
      "  [-1.07550236  0.24350167]\n",
      "  [-1.07550236  2.33468954]\n",
      "  [-1.07550236  0.11225321]\n",
      "  [-1.07550236  0.20203312]]]\n"
     ]
    },
    {
     "data": {
      "text/plain": [
       "(-1.0878471305145783,\n",
       " -0.8162621068398246,\n",
       " -2.8421680863772463,\n",
       " 3.7115910235064318)"
      ]
     },
     "execution_count": 34,
     "metadata": {},
     "output_type": "execute_result"
    },
    {
     "data": {
      "image/png": "[encoded data removed]",
      "text/plain": [
       "<Figure size 432x288 with 1 Axes>"
      ]
     },
     "metadata": {
      "needs_background": "light"
     },
     "output_type": "display_data"
    }
   ],
   "source": [
    "a,b,newData = lle(iris,2,12)\n",
    "print(np.shape(newData))\n",
    "print(newData[w0,:])\n",
    "print(\"---\")\n",
    "print(newData[w1,:])\n",
    "print(\"---\")\n",
    "print(newData[w2,:])\n",
    "\n",
    "plt.plot(newData[w0,0],newData[w0,1],'ok', color = 'green')\n",
    "plt.plot(newData[w1,0],newData[w1,1],'^k', color = 'red')\n",
    "plt.plot(newData[w2,0],newData[w2,1],'vk', color = 'blue')\n",
    "plt.axis('off')"
   ]
  },
  {
   "cell_type": "code",
   "execution_count": null,
   "metadata": {},
   "outputs": [],
   "source": []
  }
 ],
 "metadata": {
  "kernelspec": {
   "display_name": "Python 3",
   "language": "python",
   "name": "python3"
  },
  "language_info": {
   "codemirror_mode": {
    "name": "ipython",
    "version": 3
   },
   "file_extension": ".py",
   "mimetype": "text/x-python",
   "name": "python",
   "nbconvert_exporter": "python",
   "pygments_lexer": "ipython3",
   "version": "3.7.1"
  }
 },
 "nbformat": 4,
 "nbformat_minor": 2
}
