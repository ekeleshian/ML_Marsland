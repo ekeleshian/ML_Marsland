{
 "cells": [
  {
   "cell_type": "markdown",
   "metadata": {},
   "source": [
    "# Regression with Multi-Layer Perceptron (MLP) "
   ]
  },
  {
   "cell_type": "code",
   "execution_count": 28,
   "metadata": {},
   "outputs": [
    {
     "name": "stdout",
     "output_type": "stream",
     "text": [
      "The autoreload extension is already loaded. To reload it, use:\n",
      "  %reload_ext autoreload\n"
     ]
    }
   ],
   "source": [
    "%load_ext autoreload\n",
    "%matplotlib inline"
   ]
  },
  {
   "cell_type": "code",
   "execution_count": 9,
   "metadata": {},
   "outputs": [],
   "source": [
    "%autoreload 2"
   ]
  },
  {
   "cell_type": "code",
   "execution_count": 15,
   "metadata": {},
   "outputs": [],
   "source": [
    "import numpy as np\n",
    "import matplotlib.pyplot as plt"
   ]
  },
  {
   "cell_type": "code",
   "execution_count": 20,
   "metadata": {},
   "outputs": [],
   "source": [
    "plt.style.use(['dark_background'])"
   ]
  },
  {
   "cell_type": "code",
   "execution_count": 21,
   "metadata": {},
   "outputs": [],
   "source": [
    "x = np.ones((1,40))*np.linspace(0, 1, 40).reshape((1,40))"
   ]
  },
  {
   "cell_type": "code",
   "execution_count": 22,
   "metadata": {},
   "outputs": [],
   "source": [
    "t = np.sin(2*np.pi*x) + np.cos(4*np.pi*x) + np.random.randn(40)*0.2\n",
    "t = t.T"
   ]
  },
  {
   "cell_type": "code",
   "execution_count": 23,
   "metadata": {},
   "outputs": [],
   "source": [
    "x = x.T"
   ]
  },
  {
   "cell_type": "code",
   "execution_count": 24,
   "metadata": {},
   "outputs": [
    {
     "data": {
      "text/plain": [
       "[<matplotlib.lines.Line2D at 0x7f7a34c120f0>]"
      ]
     },
     "execution_count": 24,
     "metadata": {},
     "output_type": "execute_result"
    },
    {
     "data": {
      "image/png": "[encoded data removed]",
      "text/plain": [
       "<Figure size 432x288 with 1 Axes>"
      ]
     },
     "metadata": {},
     "output_type": "display_data"
    }
   ],
   "source": [
    "plt.plot(x, t, '.')"
   ]
  },
  {
   "cell_type": "code",
   "execution_count": 25,
   "metadata": {},
   "outputs": [],
   "source": [
    "x = (x - x.mean(axis=0))/x.std(axis=0)"
   ]
  },
  {
   "cell_type": "code",
   "execution_count": 26,
   "metadata": {},
   "outputs": [],
   "source": [
    "train = x[::2, :]\n",
    "test= x[1::4, :]\n",
    "valid = x[3::4, :]\n",
    "traintarget = t[::2, :]\n",
    "testtarget = t[1::4, :]\n",
    "validtarget = t[3::4, :]"
   ]
  },
  {
   "cell_type": "code",
   "execution_count": 30,
   "metadata": {},
   "outputs": [],
   "source": [
    "import mlp"
   ]
  },
  {
   "cell_type": "code",
   "execution_count": 31,
   "metadata": {},
   "outputs": [
    {
     "name": "stdout",
     "output_type": "stream",
     "text": [
      "Iteration:  0  Error:  14.423220959799158\n",
      "Iteration:  100  Error:  6.48692745234478\n"
     ]
    }
   ],
   "source": [
    "net = mlp.mlp(train, traintarget, 3, outtype='linear')\n",
    "net.mlptrain(train, traintarget, 0.25, 101)"
   ]
  },
  {
   "cell_type": "code",
   "execution_count": 38,
   "metadata": {},
   "outputs": [
    {
     "name": "stdout",
     "output_type": "stream",
     "text": [
      "Iteration:  0  Error:  18.649161382975514\n",
      "Iteration:  0  Error:  9.650445232103053\n",
      "Iteration:  0  Error:  14.692146841224227\n",
      "Iteration:  0  Error:  13.49365211410742\n",
      "Iteration:  0  Error:  11.38602574516327\n",
      "Iteration:  0  Error:  11.616324766671223\n",
      "Iteration:  0  Error:  12.43463769910857\n"
     ]
    }
   ],
   "source": [
    "nodes = [1, 2, 3, 5, 10, 25, 50]\n",
    "\n",
    "for i in nodes:\n",
    "    net = mlp.mlp(train, traintarget,i, outtype='linear')\n",
    "    net.mlptrain(train, traintarget, 0.25, 10)"
   ]
  },
  {
   "cell_type": "code",
   "execution_count": 37,
   "metadata": {},
   "outputs": [
    {
     "data": {
      "text/plain": [
       "(20, 1)"
      ]
     },
     "execution_count": 37,
     "metadata": {},
     "output_type": "execute_result"
    }
   ],
   "source": [
    "train.shape"
   ]
  },
  {
   "cell_type": "markdown",
   "metadata": {},
   "source": [
    "# Classification with MLP"
   ]
  },
  {
   "cell_type": "code",
   "execution_count": 39,
   "metadata": {},
   "outputs": [],
   "source": [
    "def preprocessIris(infile, outfile):\n",
    "    stext1 = 'Iris-setosa'\n",
    "    stext2 = 'Iris-versicolor'\n",
    "    stext3 = 'Iris-virginica'\n",
    "    rtext1 = '0'\n",
    "    rtext2 = '1'\n",
    "    rtext3 = '2'\n",
    "    fid = open(infile, 'r')\n",
    "    oid = open(outfile, 'w')\n",
    "    \n",
    "    for s in fid:\n",
    "        if s.find(stext1) > -1:\n",
    "            oid.write(s.replace(stext1, rtext1))\n",
    "        if s.find(stext2) > -1:\n",
    "            oid.write(s.replace(stext2, rtext2))\n",
    "        if s.find(stext3) > -1:\n",
    "            oid.write(s.replace(stext3, rtext3))\n",
    "    fid.close()\n",
    "    oid.close()"
   ]
  },
  {
   "cell_type": "code",
   "execution_count": 41,
   "metadata": {},
   "outputs": [],
   "source": [
    "preprocessIris('iris.data.txt', 'iris_proc.data.txt')"
   ]
  },
  {
   "cell_type": "code",
   "execution_count": 42,
   "metadata": {},
   "outputs": [],
   "source": [
    "iris = np.loadtxt('iris_proc.data.txt', delimiter=',')"
   ]
  },
  {
   "cell_type": "code",
   "execution_count": 43,
   "metadata": {},
   "outputs": [],
   "source": [
    "iris[:, :4] = iris[:, :4] - iris[:, :4].mean(axis=0)\n",
    "imax = np.concatenate((iris.max(axis=0)*np.ones((1,5)), np.abs(iris.min(\n",
    "axis=0))*np.ones((1,5))), axis=0).max(axis=0)\n",
    "iris[:, :4] = iris[:, :4]/imax[:4]"
   ]
  },
  {
   "cell_type": "code",
   "execution_count": 44,
   "metadata": {},
   "outputs": [
    {
     "data": {
      "text/plain": [
       "array([[-0.36142626,  0.33135215, -0.7508489 , -0.76741803,  0.        ],\n",
       "       [-0.45867099, -0.04011887, -0.7508489 , -0.76741803,  0.        ],\n",
       "       [-0.55591572,  0.10846954, -0.78268251, -0.76741803,  0.        ],\n",
       "       [-0.60453809,  0.03417533, -0.71901528, -0.76741803,  0.        ],\n",
       "       [-0.41004862,  0.40564636, -0.7508489 , -0.76741803,  0.        ]])"
      ]
     },
     "execution_count": 44,
     "metadata": {},
     "output_type": "execute_result"
    }
   ],
   "source": [
    "iris[0:5, :]"
   ]
  },
  {
   "cell_type": "code",
   "execution_count": 49,
   "metadata": {},
   "outputs": [],
   "source": [
    "target = np.zeros((np.shape(iris)[0], 3))\n",
    "indices = np.where(iris[:,4]==0)\n",
    "target[indices, 0] = 1\n",
    "indices = np.where(iris[:,4]==1)\n",
    "target[indices, 1] = 1\n",
    "indices = np.where(iris[:,4] ==2)\n",
    "target[indices, 2] = 1\n"
   ]
  },
  {
   "cell_type": "code",
   "execution_count": 50,
   "metadata": {},
   "outputs": [
    {
     "data": {
      "text/plain": [
       "array([[1., 0., 0.],\n",
       "       [1., 0., 0.],\n",
       "       [1., 0., 0.],\n",
       "       [1., 0., 0.]])"
      ]
     },
     "execution_count": 50,
     "metadata": {},
     "output_type": "execute_result"
    }
   ],
   "source": [
    "target[:4]"
   ]
  },
  {
   "cell_type": "code",
   "execution_count": 51,
   "metadata": {},
   "outputs": [
    {
     "data": {
      "text/plain": [
       "array([[1., 0., 0.],\n",
       "       [1., 0., 0.],\n",
       "       [1., 0., 0.],\n",
       "       [1., 0., 0.],\n",
       "       [1., 0., 0.],\n",
       "       [1., 0., 0.],\n",
       "       [1., 0., 0.],\n",
       "       [1., 0., 0.],\n",
       "       [1., 0., 0.],\n",
       "       [1., 0., 0.]])"
      ]
     },
     "execution_count": 51,
     "metadata": {},
     "output_type": "execute_result"
    }
   ],
   "source": [
    "target[:10]"
   ]
  },
  {
   "cell_type": "code",
   "execution_count": 59,
   "metadata": {},
   "outputs": [],
   "source": [
    "order = np.arange(np.shape(iris)[0])"
   ]
  },
  {
   "cell_type": "code",
   "execution_count": 60,
   "metadata": {},
   "outputs": [],
   "source": [
    "np.random.shuffle(order)"
   ]
  },
  {
   "cell_type": "code",
   "execution_count": 62,
   "metadata": {},
   "outputs": [],
   "source": [
    "iris = iris[order,:]\n",
    "target = target[order, :]"
   ]
  },
  {
   "cell_type": "code",
   "execution_count": 63,
   "metadata": {},
   "outputs": [],
   "source": [
    "x_train = iris[::2, 0:4]\n",
    "y_train = target[::2]\n",
    "x_val = iris[1::4, 0:4]\n",
    "y_val  = target[1::4]\n",
    "x_test = iris[3::4, :4]\n",
    "y_test = target[3::4]"
   ]
  },
  {
   "cell_type": "code",
   "execution_count": 64,
   "metadata": {},
   "outputs": [
    {
     "name": "stdout",
     "output_type": "stream",
     "text": [
      "1\n",
      "Iteration:  0  Error:  25.862895425585585\n",
      "2\n",
      "Iteration:  0  Error:  20.242453697638048\n",
      "3\n",
      "Iteration:  0  Error:  10.074320454247072\n",
      "4\n",
      "Iteration:  0  Error:  6.0240655851468095\n",
      "5\n",
      "Iteration:  0  Error:  4.084276428997572\n",
      "6\n",
      "Iteration:  0  Error:  3.073449303449884\n",
      "7\n",
      "Iteration:  0  Error:  2.4732237158040578\n",
      "8\n",
      "Iteration:  0  Error:  2.0809750930614785\n",
      "9\n",
      "Iteration:  0  Error:  1.8074121663635405\n",
      "10\n",
      "Iteration:  0  Error:  1.60750391162557\n",
      "11\n",
      "Iteration:  0  Error:  1.4560915309303541\n",
      "12\n",
      "Iteration:  0  Error:  1.3380514555121015\n",
      "13\n",
      "Iteration:  0  Error:  1.2437907413606353\n",
      "14\n",
      "Iteration:  0  Error:  1.1669667147919822\n",
      "15\n",
      "Iteration:  0  Error:  1.1032423505070983\n",
      "16\n",
      "Iteration:  0  Error:  1.0495671757791867\n",
      "17\n",
      "Iteration:  0  Error:  1.0037428979632053\n",
      "18\n",
      "Iteration:  0  Error:  0.9641513481234285\n",
      "19\n",
      "Iteration:  0  Error:  0.9295788130033553\n",
      "20\n",
      "Iteration:  0  Error:  0.8990995765484566\n",
      "21\n",
      "Iteration:  0  Error:  0.8719969003788708\n",
      "22\n",
      "Iteration:  0  Error:  0.8477082837884109\n",
      "23\n",
      "Iteration:  0  Error:  0.8257868273597873\n",
      "24\n",
      "Iteration:  0  Error:  0.805873495836694\n",
      "25\n",
      "Iteration:  0  Error:  0.7876768946686034\n",
      "26\n",
      "Iteration:  0  Error:  0.770958314037955\n",
      "27\n",
      "Iteration:  0  Error:  0.7555205230923144\n",
      "28\n",
      "Iteration:  0  Error:  0.7411992724084338\n",
      "29\n",
      "Iteration:  0  Error:  0.7278567781284343\n",
      "30\n",
      "Iteration:  0  Error:  0.7153766739315596\n",
      "31\n",
      "Iteration:  0  Error:  0.7036600626398837\n",
      "32\n",
      "Iteration:  0  Error:  0.6926224003632565\n",
      "33\n",
      "Iteration:  0  Error:  0.6821910172030708\n",
      "Stopped 1.725859355623384 1.7260547459188014 1.7267986436608764\n",
      "Confusion matrix is:\n",
      "[[13.  0.  0.]\n",
      " [ 0.  7.  0.]\n",
      " [ 0.  1. 16.]]\n",
      "Percentage Correct:  97.2972972972973\n"
     ]
    }
   ],
   "source": [
    "net = mlp.mlp(x_train, y_train, 5, outtype='softmax')\n",
    "net.earlystopping(x_train, y_train, x_val, y_val, 0.1)\n",
    "net.confmat(x_test, y_test)"
   ]
  },
  {
   "cell_type": "markdown",
   "metadata": {},
   "source": [
    "# Time-Series with MLP"
   ]
  },
  {
   "cell_type": "code",
   "execution_count": 82,
   "metadata": {},
   "outputs": [
    {
     "data": {
      "text/plain": [
       "Text(0,0.5,'Ozone (dobson units)')"
      ]
     },
     "execution_count": 82,
     "metadata": {},
     "output_type": "execute_result"
    },
    {
     "data": {
      "image/png": "[encoded data removed]",
      "text/plain": [
       "<Figure size 432x288 with 1 Axes>"
      ]
     },
     "metadata": {
      "needs_background": "dark"
     },
     "output_type": "display_data"
    }
   ],
   "source": [
    "plt.plot(np.arange(np.shape(PNoz)[0]), PNoz[:,2], '.')\n",
    "plt.xlabel('Time (days)')\n",
    "plt.ylabel(\"Ozone (dobson units)\")\n"
   ]
  },
  {
   "cell_type": "code",
   "execution_count": 68,
   "metadata": {},
   "outputs": [
    {
     "data": {
      "text/plain": [
       "(2855, 4)"
      ]
     },
     "execution_count": 68,
     "metadata": {},
     "output_type": "execute_result"
    }
   ],
   "source": [
    "PNoz.shape"
   ]
  },
  {
   "cell_type": "code",
   "execution_count": 84,
   "metadata": {},
   "outputs": [
    {
     "data": {
      "text/plain": [
       "Text(0,0.5,'Sulfur Dioxide level')"
      ]
     },
     "execution_count": 84,
     "metadata": {},
     "output_type": "execute_result"
    },
    {
     "data": {
      "image/png": "[encoded data removed]",
      "text/plain": [
       "<Figure size 432x288 with 1 Axes>"
      ]
     },
     "metadata": {
      "needs_background": "dark"
     },
     "output_type": "display_data"
    }
   ],
   "source": [
    "plt.plot(np.arange(np.shape(PNoz)[0]), PNoz[:,3], '.')\n",
    "plt.xlabel('Time (days)')\n",
    "plt.ylabel(\"Sulfur Dioxide level\")"
   ]
  },
  {
   "cell_type": "code",
   "execution_count": 98,
   "metadata": {},
   "outputs": [],
   "source": [
    "PNoz = np.loadtxt('PNoz.dat.txt')"
   ]
  },
  {
   "cell_type": "code",
   "execution_count": 99,
   "metadata": {},
   "outputs": [],
   "source": [
    "PNoz[:, 2] = PNoz[:,2] - PNoz[:, 2].mean()\n",
    "PNoz[:, 2] = PNoz[:, 2]/PNoz[:, 2].max()"
   ]
  },
  {
   "cell_type": "code",
   "execution_count": 100,
   "metadata": {},
   "outputs": [],
   "source": [
    "t = 2\n",
    "k = 3"
   ]
  },
  {
   "cell_type": "code",
   "execution_count": 101,
   "metadata": {},
   "outputs": [],
   "source": [
    "lastPoint = np.shape(PNoz)[0]-t*(k+1)\n",
    "inputs = np.zeros((lastPoint,k))\n",
    "targets = np.zeros((lastPoint,1))\n",
    "for i in range(lastPoint):\n",
    "    inputs[i,:] = PNoz[i:i+t*k:t,2]\n",
    "    targets[i] = PNoz[i+t*(k+1),2]"
   ]
  },
  {
   "cell_type": "code",
   "execution_count": 102,
   "metadata": {},
   "outputs": [],
   "source": [
    "test = inputs[-400:, :]\n",
    "testtargets = targets[-400:]\n",
    "testtargets = testtargets.reshape(-1, 1)\n",
    "train = inputs[:-400:2, :]\n",
    "traintargets= targets[:-400:2].reshape(-1, 1)\n",
    "valid = inputs[1:-400:2, :]\n",
    "validtargets = targets[1:-400:2].reshape(-1, 1)"
   ]
  },
  {
   "cell_type": "code",
   "execution_count": 103,
   "metadata": {},
   "outputs": [],
   "source": [
    "change = np.arange(np.shape(inputs)[0])\n",
    "np.random.shuffle(change)\n",
    "inputs = inputs[change, :]\n",
    "targets = targets[change, :]"
   ]
  },
  {
   "cell_type": "code",
   "execution_count": 104,
   "metadata": {},
   "outputs": [
    {
     "name": "stdout",
     "output_type": "stream",
     "text": [
      "1\n",
      "Iteration:  0  Error:  351.2815475767288\n",
      "2\n",
      "Iteration:  0  Error:  20.820989764863018\n",
      "3\n",
      "Iteration:  0  Error:  20.675497645145025\n",
      "4\n",
      "Iteration:  0  Error:  20.57717337394977\n",
      "5\n",
      "Iteration:  0  Error:  20.507105914266667\n",
      "6\n",
      "Iteration:  0  Error:  20.456365916218072\n",
      "7\n",
      "Iteration:  0  Error:  20.418972835445373\n",
      "8\n",
      "Iteration:  0  Error:  20.390839089823018\n",
      "9\n",
      "Iteration:  0  Error:  20.36913923955174\n",
      "10\n",
      "Iteration:  0  Error:  20.351908826969158\n",
      "11\n",
      "Iteration:  0  Error:  20.337778092138663\n",
      "12\n",
      "Iteration:  0  Error:  20.32579051944265\n",
      "13\n",
      "Iteration:  0  Error:  20.315277436130096\n",
      "14\n",
      "Iteration:  0  Error:  20.305770799201866\n",
      "15\n",
      "Iteration:  0  Error:  20.296942425319667\n",
      "16\n",
      "Iteration:  0  Error:  20.288561656072012\n",
      "17\n",
      "Iteration:  0  Error:  20.28046589541513\n",
      "18\n",
      "Iteration:  0  Error:  20.272540125966245\n",
      "19\n",
      "Iteration:  0  Error:  20.264702677001907\n",
      "20\n",
      "Iteration:  0  Error:  20.256895337826904\n",
      "21\n",
      "Iteration:  0  Error:  20.24907648789808\n",
      "22\n",
      "Iteration:  0  Error:  20.241216320271167\n",
      "23\n",
      "Iteration:  0  Error:  20.23329351781979\n",
      "24\n",
      "Iteration:  0  Error:  20.225292938326906\n",
      "25\n",
      "Iteration:  0  Error:  20.217204000793387\n",
      "26\n",
      "Iteration:  0  Error:  20.209019559492624\n",
      "27\n",
      "Iteration:  0  Error:  20.200735117345225\n",
      "28\n",
      "Iteration:  0  Error:  20.192348275121432\n",
      "29\n",
      "Iteration:  0  Error:  20.18385834406856\n",
      "30\n",
      "Iteration:  0  Error:  20.17526607113257\n",
      "31\n",
      "Iteration:  0  Error:  20.166573440974595\n",
      "32\n",
      "Iteration:  0  Error:  20.157783529516706\n",
      "33\n",
      "Iteration:  0  Error:  20.14890039118429\n",
      "34\n",
      "Iteration:  0  Error:  20.139928967302833\n",
      "35\n",
      "Iteration:  0  Error:  20.130875006906702\n",
      "36\n",
      "Iteration:  0  Error:  20.12174499397432\n",
      "37\n",
      "Iteration:  0  Error:  20.11254607712184\n",
      "38\n",
      "Iteration:  0  Error:  20.103285999275\n",
      "39\n",
      "Iteration:  0  Error:  20.09397302593851\n",
      "40\n",
      "Iteration:  0  Error:  20.08461587149285\n",
      "41\n",
      "Iteration:  0  Error:  20.07522362353788\n",
      "42\n",
      "Iteration:  0  Error:  20.065805665720323\n",
      "43\n",
      "Iteration:  0  Error:  20.05637159976335\n",
      "44\n",
      "Iteration:  0  Error:  20.046931167588205\n",
      "45\n",
      "Iteration:  0  Error:  20.037494174501997\n",
      "46\n",
      "Iteration:  0  Error:  20.028070414439906\n",
      "47\n",
      "Iteration:  0  Error:  20.018669598209858\n",
      "48\n",
      "Iteration:  0  Error:  20.009301285606185\n",
      "49\n",
      "Iteration:  0  Error:  19.999974822148502\n",
      "50\n",
      "Iteration:  0  Error:  19.990699281072388\n",
      "51\n",
      "Iteration:  0  Error:  19.98148341105955\n",
      "52\n",
      "Iteration:  0  Error:  19.972335590053284\n",
      "53\n",
      "Iteration:  0  Error:  19.96326378536746\n",
      "54\n",
      "Iteration:  0  Error:  19.954275520167382\n",
      "55\n",
      "Iteration:  0  Error:  19.94537784628354\n",
      "56\n",
      "Iteration:  0  Error:  19.93657732321513\n",
      "57\n",
      "Iteration:  0  Error:  19.927880003091712\n",
      "58\n",
      "Iteration:  0  Error:  19.919291421288527\n",
      "59\n",
      "Iteration:  0  Error:  19.910816592332907\n",
      "60\n",
      "Iteration:  0  Error:  19.90246001069611\n",
      "61\n",
      "Iteration:  0  Error:  19.89422565603497\n",
      "62\n",
      "Iteration:  0  Error:  19.88611700242963\n",
      "63\n",
      "Iteration:  0  Error:  19.878137031156584\n",
      "64\n",
      "Iteration:  0  Error:  19.87028824653754\n",
      "65\n",
      "Iteration:  0  Error:  19.862572694414247\n",
      "66\n",
      "Iteration:  0  Error:  19.854991982814774\n",
      "67\n",
      "Iteration:  0  Error:  19.847547304397338\n",
      "68\n",
      "Iteration:  0  Error:  19.84023946028195\n",
      "69\n",
      "Iteration:  0  Error:  19.833068884907277\n",
      "70\n",
      "Iteration:  0  Error:  19.826035671578808\n",
      "71\n",
      "Iteration:  0  Error:  19.81913959840447\n",
      "72\n",
      "Iteration:  0  Error:  19.812380154343714\n",
      "73\n",
      "Iteration:  0  Error:  19.805756565126288\n",
      "74\n",
      "Iteration:  0  Error:  19.799267818825776\n",
      "75\n",
      "Iteration:  0  Error:  19.792912690901176\n",
      "76\n",
      "Iteration:  0  Error:  19.786689768546267\n",
      "77\n",
      "Iteration:  0  Error:  19.780597474211394\n",
      "78\n",
      "Iteration:  0  Error:  19.774634088185305\n",
      "79\n",
      "Iteration:  0  Error:  19.768797770145902\n",
      "80\n",
      "Iteration:  0  Error:  19.76308657960785\n",
      "81\n",
      "Iteration:  0  Error:  19.757498495212147\n",
      "82\n",
      "Iteration:  0  Error:  19.75203143281821\n",
      "83\n",
      "Iteration:  0  Error:  19.74668326237235\n",
      "84\n",
      "Iteration:  0  Error:  19.741451823538405\n",
      "85\n",
      "Iteration:  0  Error:  19.736334940086376\n",
      "86\n",
      "Iteration:  0  Error:  19.731330433043865\n",
      "87\n",
      "Iteration:  0  Error:  19.726436132622304\n",
      "88\n",
      "Iteration:  0  Error:  19.721649888936643\n",
      "89\n",
      "Iteration:  0  Error:  19.716969581542234\n",
      "90\n",
      "Iteration:  0  Error:  19.712393127817556\n",
      "91\n",
      "Iteration:  0  Error:  19.707918490224994\n",
      "92\n",
      "Iteration:  0  Error:  19.703543682485446\n",
      "93\n",
      "Iteration:  0  Error:  19.699266774705507\n",
      "94\n",
      "Iteration:  0  Error:  19.695085897498323\n",
      "95\n",
      "Iteration:  0  Error:  19.690999245142038\n",
      "96\n",
      "Iteration:  0  Error:  19.68700507782139\n",
      "97\n",
      "Iteration:  0  Error:  19.68310172300078\n",
      "98\n",
      "Iteration:  0  Error:  19.6792875759786\n",
      "99\n",
      "Iteration:  0  Error:  19.675561099674866\n",
      "100\n",
      "Iteration:  0  Error:  19.67192082370609\n",
      "101\n",
      "Iteration:  0  Error:  19.668365342802986\n",
      "102\n",
      "Iteration:  0  Error:  19.664893314628465\n",
      "103\n",
      "Iteration:  0  Error:  19.661503457054884\n",
      "104\n",
      "Iteration:  0  Error:  19.658194544960814\n",
      "105\n",
      "Iteration:  0  Error:  19.654965406608785\n",
      "106\n",
      "Iteration:  0  Error:  19.65181491966629\n",
      "107\n",
      "Iteration:  0  Error:  19.64874200693263\n",
      "108\n",
      "Iteration:  0  Error:  19.645745631834416\n",
      "109\n",
      "Iteration:  0  Error:  19.642824793752\n",
      "110\n",
      "Iteration:  0  Error:  19.639978523238124\n",
      "111\n",
      "Iteration:  0  Error:  19.63720587718884\n",
      "112\n",
      "Iteration:  0  Error:  19.63450593402448\n",
      "113\n",
      "Iteration:  0  Error:  19.631877788936134\n",
      "114\n",
      "Iteration:  0  Error:  19.629320549249897\n",
      "115\n",
      "Iteration:  0  Error:  19.62683332995761\n",
      "116\n",
      "Iteration:  0  Error:  19.624415249458657\n",
      "117\n",
      "Iteration:  0  Error:  19.62206542555306\n",
      "118\n",
      "Iteration:  0  Error:  19.61978297172114\n",
      "119\n",
      "Iteration:  0  Error:  19.61756699371988\n",
      "120\n",
      "Iteration:  0  Error:  19.61541658652094\n",
      "121\n",
      "Iteration:  0  Error:  19.613330831609666\n",
      "122\n",
      "Iteration:  0  Error:  19.611308794659024\n",
      "123\n",
      "Iteration:  0  Error:  19.609349523587056\n",
      "124\n",
      "Iteration:  0  Error:  19.60745204700102\n",
      "Stopped 21.127896226486612 21.128830458241573 21.129818089937494\n"
     ]
    },
    {
     "data": {
      "text/plain": [
       "21.127896226486612"
      ]
     },
     "execution_count": 104,
     "metadata": {},
     "output_type": "execute_result"
    }
   ],
   "source": [
    "net = mlp.mlp(train, traintargets, 3, outtype='linear')\n",
    "net.earlystopping(train, traintargets, valid, validtargets, 0.1)"
   ]
  },
  {
   "cell_type": "code",
   "execution_count": 105,
   "metadata": {},
   "outputs": [],
   "source": [
    "test = np.concatenate((test,-np.ones((np.shape(test)[0],1))),axis=1)\n",
    "testout = net.mlpfwd(test)"
   ]
  },
  {
   "cell_type": "code",
   "execution_count": 109,
   "metadata": {},
   "outputs": [
    {
     "data": {
      "text/plain": [
       "<matplotlib.legend.Legend at 0x7f7a33d5ed68>"
      ]
     },
     "execution_count": 109,
     "metadata": {},
     "output_type": "execute_result"
    },
    {
     "data": {
      "image/png": "[encoded data removed]",
      "text/plain": [
       "<Figure size 432x288 with 1 Axes>"
      ]
     },
     "metadata": {
      "needs_background": "dark"
     },
     "output_type": "display_data"
    }
   ],
   "source": [
    "plt.plot(np.arange(np.shape(test)[0]), testout, 'ro')\n",
    "plt.plot(np.arange(np.shape(test)[0]), testtargets, 'bx')\n",
    "plt.legend((\"Predictions\", \"Targets\"))"
   ]
  },
  {
   "cell_type": "code",
   "execution_count": 108,
   "metadata": {},
   "outputs": [
    {
     "name": "stdout",
     "output_type": "stream",
     "text": [
      "6.574872130377032\n"
     ]
    }
   ],
   "source": [
    "print(0.5*np.sum((testtargets-testout)**2))"
   ]
  },
  {
   "cell_type": "code",
   "execution_count": 2,
   "metadata": {},
   "outputs": [],
   "source": [
    "import matplotlib.pyplot as plt"
   ]
  },
  {
   "cell_type": "code",
   "execution_count": 6,
   "metadata": {},
   "outputs": [
    {
     "data": {
      "text/plain": [
       "Text(0.5,1,'blah')"
      ]
     },
     "execution_count": 6,
     "metadata": {},
     "output_type": "execute_result"
    },
    {
     "data": {
      "image/png": "[encoded data removed]",
      "text/plain": [
       "<Figure size 432x288 with 1 Axes>"
      ]
     },
     "metadata": {
      "needs_background": "light"
     },
     "output_type": "display_data"
    }
   ],
   "source": [
    "plt.plot(range(10))\n",
    "plt.xlabel('blah')\n",
    "plt.title('blah')"
   ]
  },
  {
   "cell_type": "code",
   "execution_count": null,
   "metadata": {},
   "outputs": [],
   "source": []
  }
 ],
 "metadata": {
  "kernelspec": {
   "display_name": "Python 3",
   "language": "python",
   "name": "python3"
  },
  "language_info": {
   "codemirror_mode": {
    "name": "ipython",
    "version": 3
   },
   "file_extension": ".py",
   "mimetype": "text/x-python",
   "name": "python",
   "nbconvert_exporter": "python",
   "pygments_lexer": "ipython3",
   "version": "3.6.6"
  }
 },
 "nbformat": 4,
 "nbformat_minor": 2
}
